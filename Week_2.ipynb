{
  "nbformat": 4,
  "nbformat_minor": 0,
  "metadata": {
    "colab": {
      "provenance": [],
      "mount_file_id": "1-9JGTLBWXBkUo28ieos7mmQeDciFdrtI",
      "authorship_tag": "ABX9TyOSCGlLtly3agCX4iPTANYw",
      "include_colab_link": true
    },
    "kernelspec": {
      "name": "python3",
      "display_name": "Python 3"
    },
    "language_info": {
      "name": "python"
    }
  },
  "cells": [
    {
      "cell_type": "markdown",
      "metadata": {
        "id": "view-in-github",
        "colab_type": "text"
      },
      "source": [
        "<a href=\"https://colab.research.google.com/github/achuntya/ML-project/blob/main/Week_2.ipynb\" target=\"_parent\"><img src=\"https://colab.research.google.com/assets/colab-badge.svg\" alt=\"Open In Colab\"/></a>"
      ]
    },
    {
      "cell_type": "markdown",
      "source": [
        "Logistic Regression"
      ],
      "metadata": {
        "id": "dERfT1puajAc"
      }
    },
    {
      "cell_type": "code",
      "source": [
        "\n",
        "#importinf libraries\n",
        "from sklearn.preprocessing import StandardScaler\n",
        "from sklearn.model_selection import train_test_split\n",
        "from sklearn.metrics import accuracy_score\n",
        "from sklearn import datasets\n",
        "import numpy as np"
      ],
      "metadata": {
        "id": "ru4Hg-OmamvB"
      },
      "execution_count": null,
      "outputs": []
    },
    {
      "cell_type": "code",
      "source": [
        "breast_cancer = datasets.load_breast_cancer()\n",
        "X, y = breast_cancer.data, breast_cancer.target"
      ],
      "metadata": {
        "id": "A2PVQFzEaxUv"
      },
      "execution_count": null,
      "outputs": []
    },
    {
      "cell_type": "code",
      "source": [
        "#spliting data for training and testing\n",
        "X_train, X_test, y_train, y_test = train_test_split(X, y, test_size=0.2, random_state=1234)\n",
        "sc = StandardScaler()\n",
        "X_train = sc.fit_transform(X_train)\n",
        "X_test = sc.transform(X_test)"
      ],
      "metadata": {
        "id": "gxneM8kDcyfQ"
      },
      "execution_count": null,
      "outputs": []
    },
    {
      "cell_type": "code",
      "source": [
        "\n",
        "def sigmoid(x):\n",
        "  return 1/(1+np.exp(-x))"
      ],
      "metadata": {
        "id": "5OvMtsYDQh_C"
      },
      "execution_count": null,
      "outputs": []
    },
    {
      "cell_type": "code",
      "source": [
        "class LogisticRegression():\n",
        "    def __init__(self, lr=0.001, iters=1000): #lr (learning rate) & iters (iterations) could be anything of your choice\n",
        "      self.lr = lr\n",
        "      self.iters = iters\n",
        "      self.w = None\n",
        "      self.b = None\n",
        "\n",
        "\n",
        "    def fit(self, X, y):\n",
        "      n_samples,n_features = X.shape\n",
        "      self.w = np.zeros(n_features)\n",
        "      self.b = 0\n",
        "      for i in range(self.iters):\n",
        "        y_pred = sigmoid(np.dot(X,self.w)+self.b)\n",
        "        dw = (1/n_samples)*np.dot(X.T,(y_pred-y))\n",
        "        db = (1/n_samples)*np.sum(y_pred-y)\n",
        "        self.w = self.w - self.lr*dw\n",
        "        self.b = self.b - self.lr*db\n",
        "        return self\n",
        "\n",
        "\n",
        "\n",
        "    def predict(self, X):\n",
        "      Linear_pred = np.dot(X, self.w)+self.b\n",
        "      y_pred = sigmoid(Linear_pred)\n",
        "\n",
        "      class_pred = [1 if i>0.5 else 0 for i in y_pred]\n",
        "      return class_pred\n",
        "\n",
        "    def probability(self,X):\n",
        "      Linear_pred = np.dot(X,self.w)+self.b\n",
        "      Y_pred = sigmoid(Linear_pred)\n",
        "      return Y_pred\n",
        "\n",
        "\n",
        "\n",
        "\n",
        "\n"
      ],
      "metadata": {
        "id": "gyHsf8fyRheM"
      },
      "execution_count": null,
      "outputs": []
    },
    {
      "cell_type": "code",
      "source": [
        "y_pred = LogisticRegression().fit(X_train,y_train).predict(X_test)\n",
        "Y_pred = LogisticRegression().fit(X_train,y_train).probability(X_test)\n",
        "\n",
        "def accuracy(y_pred , y_test):\n",
        "           return np.sum(y_pred==y_test)/len(y_test)\n",
        "\n",
        "def BCEloss(y_test,y_pred):\n",
        "        sum = 0\n",
        "        for i in range(len(y_pred)):\n",
        "          sum = sum+y_test[i]*np.log(Y_pred[i])+(1-y_test[i])*np.log(1-Y_pred[i])\n",
        "\n",
        "        p = -sum/len(y_pred)\n",
        "\n",
        "        return p\n",
        "\n",
        "acc = accuracy(y_pred,y_test)\n",
        "print(\"accuracy = \",acc*100,\"%\")\n",
        "closs = BCEloss(y_test,y_pred)\n",
        "print(\"cost =\",closs)\n",
        "\n"
      ],
      "metadata": {
        "colab": {
          "base_uri": "https://localhost:8080/"
        },
        "id": "xW2MjNfmZQxz",
        "outputId": "8bfb9742-44b9-4851-a85d-b4288a4cf0ce"
      },
      "execution_count": null,
      "outputs": [
        {
          "output_type": "stream",
          "name": "stdout",
          "text": [
            "accuracy =  88.59649122807018 %\n",
            "cost = 0.6911561020333974\n"
          ]
        }
      ]
    },
    {
      "cell_type": "code",
      "source": [
        "from google.colab import drive"
      ],
      "metadata": {
        "id": "4rpYK4hwJN37"
      },
      "execution_count": 2,
      "outputs": []
    },
    {
      "cell_type": "markdown",
      "source": [
        "Support Vector Machines"
      ],
      "metadata": {
        "id": "HN-P9Iaqu9uu"
      }
    },
    {
      "cell_type": "code",
      "source": [
        "# Importing the libraries\n",
        "import numpy as np\n",
        "import pandas as pd\n",
        "from sklearn.model_selection import train_test_split\n",
        "from sklearn.metrics import accuracy_score\n",
        "\n",
        "\n",
        "# Load the dataset\n",
        "data = pd.read_csv('/content/drive/MyDrive/Datasets/data 1.csv') #data.csv given in the week2 folder\n",
        "\n",
        "# Dataset has features in columns 'feature1', 'feature2', ... and the target in 'target'\n",
        "X = data[['feature1', 'feature2']].values\n",
        "y = data['target'].values\n",
        "\n",
        "# Split the dataset into training and test sets\n",
        "X_train, X_test, y_train, y_test = train_test_split(X, y, test_size=0.2, random_state=42)\n",
        "\n",
        "class SVM:\n",
        "    def __init__(self, learning_rate=0.001, lambda_param=0.01, n_iters=1000):\n",
        "        self.lr = learning_rate\n",
        "        self.lambda_param = lambda_param\n",
        "        self.n_iters = n_iters\n",
        "        self.w = None\n",
        "        self.b = None\n",
        "\n",
        "    def fit(self, X, y):\n",
        "        # Initialize weights and bias\n",
        "        n_samples,n_features = X.shape\n",
        "        self.w = np.zeros(n_features)\n",
        "        self.b = 0\n",
        "\n",
        "\n",
        "        for _ in range(self.n_iters):\n",
        "            for j, x_i in enumerate(X):\n",
        "                var = y[j]*(np.dot(x_i,self.w)-self.b)\n",
        "                if var >=1:\n",
        "                  dw = self.lambda_param*self.w\n",
        "                  db = 0\n",
        "\n",
        "                else:\n",
        "                  dw = self.lambda_param*self.w - np.dot(x_i,y[j])\n",
        "                  db = -y[j]\n",
        "\n",
        "                self.w = self.w - self.lr*dw\n",
        "                self.b = self.b - self.lr*db\n",
        "                return self\n",
        "\n",
        "\n",
        "                  #check for the condition and do weight and bias updation specified above\n",
        "\n",
        "\n",
        "\n",
        "    def predict(self, X):\n",
        "        Linear_pred = np.dot(X,self.w)+self.b\n",
        "        y_pred = np.sign(Linear_pred)\n",
        "        return y_pred\n",
        "\n",
        "\n",
        "\n",
        "        # predict to test SVM on X_test\n",
        "\n",
        "\n",
        "# Initialize and train the SVM\n",
        "svm = SVM()\n",
        "svm.fit(X_train,y_train)\n",
        "y_pred = svm.predict(X_test)\n",
        "accuracy = accuracy_score(y_test,y_pred)\n",
        "print(\"Accuracy: \",accuracy)\n",
        "\n",
        "\n",
        "\n",
        "\n",
        "# Predictions\n",
        "\n",
        "\n",
        "\n",
        "\n",
        "# Evaluate the performance using accuracy_score function imported from sklearn.metrics\n",
        "\n"
      ],
      "metadata": {
        "id": "beZy2lQSvCwg",
        "colab": {
          "base_uri": "https://localhost:8080/"
        },
        "outputId": "777f1bd4-b864-4f0f-bdd3-d86685163d70"
      },
      "execution_count": 3,
      "outputs": [
        {
          "output_type": "stream",
          "name": "stdout",
          "text": [
            "Accuracy:  0.84\n"
          ]
        }
      ]
    }
  ]
}